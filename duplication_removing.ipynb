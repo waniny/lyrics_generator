{
 "cells": [
  {
   "cell_type": "markdown",
   "id": "44163835",
   "metadata": {},
   "source": [
    "##### import pandas as pd"
   ]
  },
  {
   "cell_type": "code",
   "execution_count": 2,
   "id": "643bdaa5",
   "metadata": {},
   "outputs": [],
   "source": [
    "def deduplication(df_name, save_name):\n",
    "    df = pd.read_csv(df_name)\n",
    "    df_dedup = df.sort_values(by=['좋아요'], ascending=False).drop_duplicates(['곡명', '가수'], keep='first').sort_index()\n",
    "    return df_dedup.to_csv(save_name, mode='w', encoding='utf-8-sig', index=False)"
   ]
  },
  {
   "cell_type": "code",
   "execution_count": 8,
   "id": "da24eba3",
   "metadata": {},
   "outputs": [],
   "source": [
    "deduplication('댄스(40001_45000).csv', '발라드(40001_45000)_중복제거.csv')"
   ]
  },
  {
   "cell_type": "code",
   "execution_count": null,
   "id": "0a1b7fdd",
   "metadata": {},
   "outputs": [],
   "source": []
  }
 ],
 "metadata": {
  "kernelspec": {
   "display_name": "Python 3",
   "language": "python",
   "name": "python3"
  },
  "language_info": {
   "codemirror_mode": {
    "name": "ipython",
    "version": 3
   },
   "file_extension": ".py",
   "mimetype": "text/x-python",
   "name": "python",
   "nbconvert_exporter": "python",
   "pygments_lexer": "ipython3",
   "version": "3.8.8"
  }
 },
 "nbformat": 4,
 "nbformat_minor": 5
}
